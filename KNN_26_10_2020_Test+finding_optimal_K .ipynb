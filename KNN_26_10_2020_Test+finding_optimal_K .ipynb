{
 "cells": [
  {
   "cell_type": "markdown",
   "metadata": {},
   "source": [
    "# This is what i add to this file remove dates\n"
   ]
  },
  {
   "cell_type": "code",
   "execution_count": 1,
   "metadata": {},
   "outputs": [],
   "source": [
    "def remove_dates(text):\n",
    "    \n",
    "    months=['Janvier','Fevrier','Mars','Avril','Mai','Juin','Juillet','Aout','Août','Septembre','Octobre','Novembre','Décembre']\n",
    "    for month in months:\n",
    "        text = text.replace(month.lower(), '')\n",
    "        text = text.replace(month, '')\n",
    "    \n",
    "    dates = None\n",
    "    try:\n",
    "        pattern = re.compile(r'[0-9][0-9]+')\n",
    "        dates = pattern.findall(text)\n",
    "        for date in dates:\n",
    "            text = text.replace(date, '')\n",
    "    except Exception as e:\n",
    "        pass\n",
    "    dates\n",
    "\n",
    "    \n",
    "    return text\n"
   ]
  },
  {
   "cell_type": "code",
   "execution_count": 2,
   "metadata": {},
   "outputs": [],
   "source": [
    "from pdfminer.pdfinterp import PDFResourceManager, PDFPageInterpreter  \n",
    "from pdfminer.converter import TextConverter\n",
    "from pdfminer.layout import LAParams\n",
    "from pdfminer.pdfpage import PDFPage\n",
    "from io import BytesIO\n",
    "try:\n",
    "    from StringIO import StringIO\n",
    "except ImportError:\n",
    "    from io import StringIO \n",
    "#from docx import Document\n",
    "\n",
    "\n",
    "\n",
    "def convert_pdf_to_txt(path):\n",
    "    rsrcmgr = PDFResourceManager()\n",
    "    retstr = StringIO()\n",
    "    codec = 'ascii'\n",
    "    laparams = LAParams()\n",
    "    device = TextConverter(rsrcmgr, retstr, codec='ascii', laparams=laparams)\n",
    "    fp = open(path, 'rb')\n",
    "    interpreter = PDFPageInterpreter(rsrcmgr, device)\n",
    "    password = \"\"\n",
    "    maxpages = 0\n",
    "    caching = True\n",
    "    pagenos = set()\n",
    "    for page in PDFPage.get_pages(fp, pagenos, maxpages=maxpages, password=password, caching=caching, check_extractable=True):\n",
    "        interpreter.process_page(page)\n",
    "    fp.close()\n",
    "    device.close()\n",
    "    str = retstr.getvalue()\n",
    "    retstr.close()\n",
    "    return str \n",
    "\n",
    "def read_file(fileName):\n",
    "  extension = fileName.split(\".\")\n",
    "  extension = extension.pop()\n",
    "  if extension == \"pdf\":\n",
    "    #try:\n",
    "       return convert_pdf_to_txt(fileName) #call to the conversion function pdftotxt\n",
    "    #except:\n",
    "       #return ''\n",
    "       #pass\n",
    "  else:\n",
    "    print ('Unsupported format')\n",
    "  return '', ''\n",
    "  \n",
    "\n",
    "\n"
   ]
  },
  {
   "cell_type": "code",
   "execution_count": 3,
   "metadata": {},
   "outputs": [
    {
     "name": "stdout",
     "output_type": "stream",
     "text": [
      "['education', 'formations', 'formation', 'diplômes', 'diplomes', 'formations académiques', 'formations academiques', 'formation et diplômes', 'formation et diplomes', 'diplômes et formations', 'diplomes et formations', 'diplômes & formations', 'diplomes & formations', 'parcours de formation', 'études et diplômes', 'etudes et diplomes', 'logiciels', 'qualités', 'qualites', 'qualites', 'informatique', 'outil informatique', 'expériences professionnelles', 'experiences professionnelles', 'expériences', 'experiences', 'expériences pro', 'experiences pro', 'projets & expériences professionnelles', 'projets & experiences professionnelles', 'expérience', 'experience', 'experience professionnelle', 'experience associative', 'experiences techniques', 'expérience', 'experience', 'compétences', 'competences', 'compétences technique', 'competences technique', 'compétences informatiques', 'competences informatiques', 'compétences linguistiques', 'competences linguistiques', 'compétences linguistiques & informatiques', 'competences linguistiques & informatiques', 'connaissances', 'compétences et connaissances', 'competences et connaissances', 'projets scolaires', 'projets', 'langues/ informatiques', 'langues', 'langues et informatique', 'langues et competences', 'informatiques', 'connaissances qualifications', 'experiences professionnelle', 'nom', 'e-mail', 'email', 'mail', 'mobile', 'telephone']\n",
      "['\\ufefflangues', 'langues', 'date de naissance', 'langue', 'coordonnées', 'coordonnees', 'divers', \"centres d'interet\", 'infos', 'contact', 'loisirs', 'présentation', 'presentation', 'profil', 'hobbies', 'me contacter', 'objectifs', 'site web', 'personnalité', 'personnalite', 'intérets', 'interets', 'réseaux sociaux', 'reseaux sociaux', 'une vie dynamique', 'objectif', 'informations complementaires', 'personnalité', 'personnalite', 'engagements personnels', \"centres d'intérets\", \"centres d'interets\", \"centre d'intérêts\", \"centre d'interets\"]\n"
     ]
    }
   ],
   "source": [
    "useful_entities = []\n",
    "filepath = 'titres_utiles.txt'\n",
    "with open(filepath, encoding='utf-8') as fp:\n",
    "   line = fp.readline()\n",
    "   cnt = 1\n",
    "   while line:\n",
    "       useful_entities.append(str.lower(line.strip()))\n",
    "       line = fp.readline()\n",
    "       cnt += 1\n",
    "print(useful_entities)\n",
    "\n",
    "\n",
    "unnecessary_entities = []\n",
    "filepath = 'titres_inutiles.txt'\n",
    "with open(filepath, encoding='utf-8') as fp:\n",
    "   line = fp.readline()\n",
    "   cnt = 1\n",
    "   while line:\n",
    "       unnecessary_entities.append(str.lower(line.strip()))\n",
    "       line = fp.readline()\n",
    "       cnt += 1\n",
    "print(unnecessary_entities)"
   ]
  },
  {
   "cell_type": "code",
   "execution_count": 4,
   "metadata": {},
   "outputs": [],
   "source": [
    "#!/usr/bin/env python\n",
    "\n",
    "import nltk \n",
    "import codecs\n",
    "import string\n",
    "from nltk.tokenize import sent_tokenize, word_tokenize, line_tokenize\n",
    "from nltk.stem.snowball import SnowballStemmer\n",
    "from nltk.corpus import stopwords\n",
    "\n",
    "\n",
    "#Tokenizing Words , lines and Sentences\n",
    "\n",
    "def get_lines(text):\n",
    "    return line_tokenize(text)\n",
    "def get_words(text):\n",
    "    return word_tokenize(text)\n",
    "def get_sentence(text):\n",
    "    return sent_tokenize(text)\n",
    "# remove punctuation and stop words french\n",
    "\n",
    "'''A stop word is a commonly used word (such as “un”, “j'ai”, “avec”, “et”) \n",
    "that a search engine has been programmed to ignore'''\n",
    "\n",
    "def removePunct(text_string):\n",
    "    #text_string = (text.encode('ascii', errors='ignore')).decode(\"utf-8\")\n",
    "    text_string=text_string.replace(\"\\n\",\" \")\n",
    "    text_string=text_string.replace(\"\\uf0b7\",\" \")\n",
    "    text_string=text_string.replace(\"\\x0c\",\" \")\n",
    "    text_string=text_string.replace(\"\\t\",\" \")\n",
    "    text_string=text_string.replace(\"\\x0b\",\" \")\n",
    "    text_string=text_string.replace(\"\\r\",\" \")\n",
    "    text_string=text_string.replace(\"\\f\",\" \")\n",
    "    \n",
    "    text_string=text_string.replace(\"’\",\" \")\n",
    "    \n",
    "    text_string=text_string.replace(\"\\u200b\",\" \")\n",
    "    text_string=text_string.replace(\"\\uf020\",\" \")\n",
    "    text_string=text_string.replace(\"\\uf02d\",\" \")\n",
    "     \n",
    "    \n",
    "    \n",
    "    for i in text_string:\n",
    "        if i in string.punctuation:\n",
    "            text_string=text_string.replace(i,\" \")\n",
    "    words = get_words(text_string.lower())\n",
    "    return ' '.join(words)\n",
    "def stopword(text) :\n",
    "    words = set(stopwords.words('french'))\n",
    "    word_tokens= [w for w in get_words(text) if not w in words]\n",
    "    return word_tokens\n",
    "\n",
    "#Stemming\n",
    "\n",
    "'''\n",
    "Stemming is the process of reducing a word into its stem, i.e. its root form.\n",
    "Stemmers remove morphological affixes from words, leaving only the word stem.\n",
    "\n",
    "'''\n",
    "def stemmers(text):\n",
    "    stemmer = SnowballStemmer(\"french\")\n",
    "    w=get_words(text)\n",
    "    w = [stemmer.stem(word) for word in w]\n",
    "    return ' '.join(w)\n",
    "#text net\n",
    "\n",
    "def net_text(text) :\n",
    "    doc = removePunct(text)\n",
    "    doc = ' '.join(stopword(doc))\n",
    "    return doc"
   ]
  },
  {
   "cell_type": "code",
   "execution_count": 5,
   "metadata": {},
   "outputs": [],
   "source": [
    "#!/usr/bin/env python\n",
    "\n",
    "# import the necessary libraries\n",
    "import os, re, sys\n",
    "\n",
    "# sys.path.append(os.path.abspath(os.path.join(os.path.dirname(__file__), os.path.pardir)))\n",
    "# from commun.process_text import *\n",
    "# diri=os.path.abspath(os.path.join(os.path.dirname(__file__), os.path.pardir))\n",
    "# # open the file that contains the useful entities\n",
    "# useful_entities = open(diri+'/util/data/useful_entities.txt', 'r').read().lower()\n",
    "# # open the file that contains unnecessary entities\n",
    "# unnecessary_entities = open(diri+'/util/data/unnecessary_entities.txt', 'r').read().lower()\n",
    "\n",
    "\n",
    "# this function return a list of entity indexes\n",
    "\n",
    "def get_index(text):\n",
    "    lines = get_lines(text.lower())\n",
    "    all_index = []\n",
    "    for i in lines:\n",
    "        if len(i) >= 5:\n",
    "            index = lines.index(i)\n",
    "            if (i in useful_entities + unnecessary_entities) and (index not in all_index):\n",
    "                all_index.append(index)\n",
    "    return all_index\n",
    "\n",
    "\n",
    "# this function returns a matrix of two columns contains indeces that surround the unnecessary entities\n",
    "def get_other_index(text):\n",
    "    all_index = get_index(text)\n",
    "    lines = get_lines(text.lower())\n",
    "    index_other = []\n",
    "    for i in range(len(all_index) - 1):\n",
    "        m = all_index[i]\n",
    "        f = all_index[i + 1]\n",
    "        \n",
    "#         if lines[m] in unnecessary_entities.split(' , '):\n",
    "        if lines[m] in unnecessary_entities:\n",
    "            index_other.append([m, f])\n",
    "#         elif lines[m] in unnecessary_entities.split(', '):\n",
    "        elif lines[m] in unnecessary_entities:\n",
    "            index_other.append([m, f])\n",
    "#         elif lines[m] in unnecessary_entities.split(' ,'):\n",
    "        elif lines[m] in unnecessary_entities:\n",
    "            index_other.append([m, f])\n",
    "    return index_other\n",
    "\n",
    "\n",
    "# this function remove the unnecessary entities\n",
    "def remove_entities(text):\n",
    "    lines = get_lines(text.lower())\n",
    "    index_other = get_other_index(text)\n",
    "    for k in range(len(index_other)):\n",
    "        liste = index_other[k]\n",
    "        del lines[liste[0]:liste[1]]\n",
    "    return lines\n",
    "\n",
    "\n",
    "def remove_email(text):\n",
    "    emails = None\n",
    "    try:\n",
    "        pattern = re.compile(r'\\S*@\\S*')\n",
    "        emails = pattern.findall(text)\n",
    "        for email in emails:\n",
    "            text = text.replace(email, '')\n",
    "    except Exception as e:\n",
    "        pass\n",
    "\n",
    "    return text\n",
    "\n",
    "def remove_dates(text):\n",
    "    \n",
    "    months=['Janvier','Fevrier','Mars','Avril','Mai','Juin','Juillet','Aout','Août','Septembre','Octobre','Novembre','Décembre']\n",
    "    for month in months:\n",
    "        text = text.replace(month.lower(), '')\n",
    "        text = text.replace(month, '')\n",
    "    \n",
    "    dates = None\n",
    "    try:\n",
    "        pattern = re.compile(r'[0-9][0-9]+')\n",
    "        dates = pattern.findall(text)\n",
    "        for date in dates:\n",
    "            text = text.replace(date, '')\n",
    "    except Exception as e:\n",
    "        pass\n",
    "    dates\n",
    "\n",
    "    \n",
    "    return text\n",
    "\n",
    "\n",
    "def remove_phone(text):\n",
    "    number = None\n",
    "    try:\n",
    "        pattern = re.compile(\n",
    "            r'([+(]?\\d+[)\\-]?[ \\t\\r\\f\\v]*[(]?\\d{2,}[()\\-]?[ \\t\\r\\f\\v]*\\d{2,}[()\\-]?[ \\t\\r\\f\\v]*\\d*[ \\t\\r\\f\\v]*\\d*[ \\t\\r\\f\\v]*)')\n",
    "        match = pattern.findall(text)\n",
    "        match = [re.sub(r'[,.]', '', el) for el in match if len(re.sub(r'[()\\-.,\\s+]', '', el)) > 6]\n",
    "        match = [re.sub(r'\\D$', '', el).strip() for el in match]\n",
    "        match = [el for el in match if len(re.sub(r'\\D', '', el)) <= 15]\n",
    "        try:\n",
    "            for el in list(match):\n",
    "                if len(el.split('-')) > 3: continue  # Year format YYYY-MM-DD\n",
    "                for x in el.split(\"-\"):\n",
    "                    try:\n",
    "                        if x.strip()[-4:].isdigit():\n",
    "                            if int(x.strip()[-4:]) in range(1900, 2100):\n",
    "                                match.remove(el)\n",
    "                    except:\n",
    "                        pass\n",
    "        except:\n",
    "            pass\n",
    "        number = match\n",
    "        for n in number:\n",
    "            text = text.replace(n, '')\n",
    "    except:\n",
    "        pass\n",
    "    return text\n",
    "\n",
    "\n",
    "def ie_preprocess(document):\n",
    "    document = ' '.join(stopword(document))\n",
    "    sentences = get_sentence(document)\n",
    "    sentences = [get_words(sent) for sent in sentences]\n",
    "    sentences = [nltk.pos_tag(sent) for sent in sentences]\n",
    "    return sentences\n",
    "\n",
    "\n",
    "def remove_names(lines):\n",
    "    names = []\n",
    "    test = 1\n",
    "    text = ' '.join(lines)\n",
    "    with codecs.open('names.txt', 'r', encoding='utf8') as f:\n",
    "        names = f.read().lower().split(' , ')\n",
    "    try:\n",
    "        for i in lines:\n",
    "            words = word_tokenize(i.lower())\n",
    "            if len(words) <= 3:\n",
    "                for j in words:\n",
    "                    if len(j) >= 4:\n",
    "                        if j in names:\n",
    "                            lines.remove(i)\n",
    "                            text = ' '.join(lines)\n",
    "                            test = 0\n",
    "        if test == 1:\n",
    "            sentences = ie_preprocess(text)\n",
    "            for tagged_sentence in sentences:\n",
    "                for chunk in nltk.ne_chunk(tagged_sentence):\n",
    "                    if type(chunk) == nltk.tree.Tree and chunk.label() == 'PERSON':\n",
    "                        names.append(' '.join([c[0] for c in chunk]))\n",
    "            for n in names:\n",
    "                text = text.replace(n, '')\n",
    "    except:\n",
    "        pass\n",
    "    return text\n",
    "\n",
    "#### to parse the name\n",
    "#in the original code the purpose was to delete name... I edit this function\n",
    "def find_name(text):\n",
    "    names = []\n",
    "    founded_name=''\n",
    "#     test = 1\n",
    "#     text = ' '.join(lines)\n",
    "    with codecs.open('names.txt', 'r', encoding='utf8') as f:\n",
    "        names = f.read().lower().split(' , ')\n",
    "    try:\n",
    "        for i in lines:\n",
    "            words = word_tokenize(i.lower())\n",
    "            if len(words) <= 3:\n",
    "                for j in words:\n",
    "                    if len(j) >= 4:\n",
    "                        if j in names:\n",
    "                            #founded_name=i\n",
    "                            lines.remove(i)\n",
    "                            text = ' '.join(lines)\n",
    "                            test = 0\n",
    "        if test == 1:\n",
    "            sentences = ie_preprocess(text)\n",
    "            for tagged_sentence in sentences:\n",
    "                for chunk in nltk.ne_chunk(tagged_sentence):\n",
    "                    if type(chunk) == nltk.tree.Tree and chunk.label() == 'PERSON':\n",
    "                        names.append(' '.join([c[0] for c in chunk]))\n",
    "            for n in names:\n",
    "                text = text.replace(n, '')\n",
    "    except:\n",
    "        pass\n",
    "    return text\n",
    "\n",
    "#####\n",
    "\n",
    "\n",
    "def cv_cleaner(text):\n",
    "    lines = remove_entities(text)\n",
    "    doc = ' '.join(lines)\n",
    "    doc = remove_names(lines)\n",
    "    doc1 = remove_phone(doc)\n",
    "    doc2 = remove_email(doc1)\n",
    "    doc3=remove_dates(doc2)\n",
    "    w = net_text(doc3)\n",
    "    return w"
   ]
  },
  {
   "cell_type": "code",
   "execution_count": 6,
   "metadata": {},
   "outputs": [
    {
     "data": {
      "text/plain": [
       "'formation cours cycle ingénieur etat a institut nationale statistique economie appliquée option recherche opérationnelle aide décision centre classes préparatoires grandes ecoles marrakech lycée ibn timiya filière mathématiques physique obtention baccalauréat sciences mathématiques b experience professionnele stage enquête nationale conjoncture auprès ménages sein direction régionale haut commissariat plan marrakech competences statistique inférence statistique analyse régression anova séries temporelles analyse données economie finance econométrie microéconomie macroéconomie gestion portefeuilles economie entreprises comptabilité nationale comptabilité générale recherche opérationnelle programmation linéaire programmation non linéaire processus stochastiques chaines markov fiabilité ntenance contrôle qualité file attente théorie graphes gestion stock production simulation évènements discrets informatique python beautifulsoup pandas numpy sikit learn matplotlib… r spss matlab scilab programmation orienté objet java langage structure données scilab uml eviews html uml solveur excel gestion base données mysql vb vba excel institut nationale statistique economie appliquée date naissance langues • arabe lu écrit parlé • français lu écrit parlé • anglais lu écrit parlé projets certificats classification machine learning évaluer déterminants solvabilité banque python anova étudier effet âge taux participation bénévole après génération aléatoire données partir moyennes obtenues site insee python spss analyse prévision prix indice boursier bist0 utilisant séries chronologiques sous r projet gestion location voiture java projet gestion classe utilisant structures données coursera ibm data science professional certificate coursera access to web data university of michigan coursera applied data science with python specialization cours • • • • • • • • activités parascolaires • président club insea charity • membre club golden mean • membre club great debaters insea insea'"
      ]
     },
     "execution_count": 6,
     "metadata": {},
     "output_type": "execute_result"
    }
   ],
   "source": [
    "cv_cleaner(convert_pdf_to_txt('CV.pdf'))"
   ]
  },
  {
   "cell_type": "markdown",
   "metadata": {},
   "source": [
    "# The test of KNN\n"
   ]
  },
  {
   "cell_type": "code",
   "execution_count": 7,
   "metadata": {},
   "outputs": [],
   "source": [
    "from sklearn.feature_extraction.text import CountVectorizer\n",
    "from sklearn.feature_extraction.text import TfidfTransformer\n",
    "from sklearn.neighbors import KNeighborsClassifier\n",
    "from sklearn.pipeline import Pipeline"
   ]
  },
  {
   "cell_type": "code",
   "execution_count": 8,
   "metadata": {},
   "outputs": [],
   "source": [
    "import numpy as np"
   ]
  },
  {
   "cell_type": "markdown",
   "metadata": {},
   "source": [
    "## A database for testing using 10 CVs"
   ]
  },
  {
   "cell_type": "code",
   "execution_count": 9,
   "metadata": {},
   "outputs": [],
   "source": [
    "# ###################################################### forget about this\n",
    "\n",
    "# L=[]\n",
    "# L.append(cv_cleaner(convert_pdf_to_txt(\"some_CVs\\info (1).pdf\")))\n",
    "# L.append(cv_cleaner(convert_pdf_to_txt(\"some_CVs\\info (2).pdf\")))\n",
    "# L.append(cv_cleaner(convert_pdf_to_txt(\"some_CVs\\info (3).pdf\")))\n",
    "# L.append(cv_cleaner(convert_pdf_to_txt(\"some_CVs\\info (4).pdf\")))\n",
    "# L.append(cv_cleaner(convert_pdf_to_txt(\"some_CVs\\info (5).pdf\")))\n",
    "# L.append(cv_cleaner(convert_pdf_to_txt(\"some_CVs\\info (6).pdf\")))\n",
    "\n",
    "# L.append(cv_cleaner(convert_pdf_to_txt(\"some_CVs\\comm (1).pdf\")))\n",
    "# L.append(cv_cleaner(convert_pdf_to_txt(\"some_CVs\\comm (2).pdf\")))\n",
    "\n",
    "# L.append(cv_cleaner(convert_pdf_to_txt(\"some_CVs\\marketing (1).pdf\")))\n",
    "# L.append(cv_cleaner(convert_pdf_to_txt(\"some_CVs\\marketing (2).pdf\")))\n",
    "\n",
    "# L.append(cv_cleaner(convert_pdf_to_txt(\"some_CVs\\mecanique.pdf\")))\n",
    "# L.append(cv_cleaner(convert_pdf_to_txt(\"some_CVs\\mecanique (1).pdf\")))\n",
    "# L.append(cv_cleaner(convert_pdf_to_txt(\"some_CVs\\mecanique (2).pdf\")))\n",
    "# L.append(cv_cleaner(convert_pdf_to_txt(\"some_CVs\\mecanique (3).pdf\")))\n",
    "\n",
    "\n",
    "# len(L)\n"
   ]
  },
  {
   "cell_type": "code",
   "execution_count": 10,
   "metadata": {},
   "outputs": [],
   "source": [
    "# # Categories_numbers=['informatique','Marketing','Mecanique']\n",
    "\n",
    "# # D=6*['informatique']+4*['Marketing']+4*['Mecanique']\n",
    "# Y_train=np.array(6*[0]+4*[1]+4*[2])\n",
    "# Y_train\n",
    "# type(Y_train[0])"
   ]
  },
  {
   "cell_type": "markdown",
   "metadata": {},
   "source": [
    "## Importing Real Database and creating a new col for the clean text"
   ]
  },
  {
   "cell_type": "code",
   "execution_count": 11,
   "metadata": {},
   "outputs": [
    {
     "data": {
      "text/html": [
       "<div>\n",
       "<style scoped>\n",
       "    .dataframe tbody tr th:only-of-type {\n",
       "        vertical-align: middle;\n",
       "    }\n",
       "\n",
       "    .dataframe tbody tr th {\n",
       "        vertical-align: top;\n",
       "    }\n",
       "\n",
       "    .dataframe thead th {\n",
       "        text-align: right;\n",
       "    }\n",
       "</style>\n",
       "<table border=\"1\" class=\"dataframe\">\n",
       "  <thead>\n",
       "    <tr style=\"text-align: right;\">\n",
       "      <th></th>\n",
       "      <th>CV</th>\n",
       "      <th>Domaine</th>\n",
       "      <th>Texte_CV</th>\n",
       "    </tr>\n",
       "  </thead>\n",
       "  <tbody>\n",
       "    <tr>\n",
       "      <th>0</th>\n",
       "      <td>cv651</td>\n",
       "      <td>Informatique</td>\n",
       "      <td></td>\n",
       "    </tr>\n",
       "    <tr>\n",
       "      <th>1</th>\n",
       "      <td>cv255</td>\n",
       "      <td>Informatique</td>\n",
       "      <td></td>\n",
       "    </tr>\n",
       "    <tr>\n",
       "      <th>2</th>\n",
       "      <td>cv592</td>\n",
       "      <td>Informatique</td>\n",
       "      <td></td>\n",
       "    </tr>\n",
       "    <tr>\n",
       "      <th>3</th>\n",
       "      <td>cv593</td>\n",
       "      <td>Informatique</td>\n",
       "      <td></td>\n",
       "    </tr>\n",
       "    <tr>\n",
       "      <th>4</th>\n",
       "      <td>cv594</td>\n",
       "      <td>Informatique</td>\n",
       "      <td></td>\n",
       "    </tr>\n",
       "  </tbody>\n",
       "</table>\n",
       "</div>"
      ],
      "text/plain": [
       "      CV       Domaine Texte_CV\n",
       "0  cv651  Informatique         \n",
       "1  cv255  Informatique         \n",
       "2  cv592  Informatique         \n",
       "3  cv593  Informatique         \n",
       "4  cv594  Informatique         "
      ]
     },
     "execution_count": 11,
     "metadata": {},
     "output_type": "execute_result"
    }
   ],
   "source": [
    "import pandas as pd \n",
    "\n",
    "data=pd.read_excel(\"donnees.xlsx\")\n",
    "data['Texte_CV']=' '\n",
    "data.head()\n",
    "\n",
    "# intialise data of lists. \n",
    "# data = {'CV':L, 'Domaine':D} \n",
    "  \n",
    "# Create DataFrame \n",
    "# df = pd.DataFrame(data) \n",
    "  \n",
    "# Print the output. \n",
    "#print(df) "
   ]
  },
  {
   "cell_type": "markdown",
   "metadata": {},
   "source": [
    "### Cleaning each CV"
   ]
  },
  {
   "cell_type": "code",
   "execution_count": 12,
   "metadata": {},
   "outputs": [
    {
     "data": {
      "text/html": [
       "<div>\n",
       "<style scoped>\n",
       "    .dataframe tbody tr th:only-of-type {\n",
       "        vertical-align: middle;\n",
       "    }\n",
       "\n",
       "    .dataframe tbody tr th {\n",
       "        vertical-align: top;\n",
       "    }\n",
       "\n",
       "    .dataframe thead th {\n",
       "        text-align: right;\n",
       "    }\n",
       "</style>\n",
       "<table border=\"1\" class=\"dataframe\">\n",
       "  <thead>\n",
       "    <tr style=\"text-align: right;\">\n",
       "      <th></th>\n",
       "      <th>CV</th>\n",
       "      <th>Domaine</th>\n",
       "      <th>Texte_CV</th>\n",
       "    </tr>\n",
       "  </thead>\n",
       "  <tbody>\n",
       "    <tr>\n",
       "      <th>0</th>\n",
       "      <td>cv651</td>\n",
       "      <td>Informatique</td>\n",
       "      <td>ingénieur développement java jee api micro ser...</td>\n",
       "    </tr>\n",
       "    <tr>\n",
       "      <th>1</th>\n",
       "      <td>cv255</td>\n",
       "      <td>Informatique</td>\n",
       "      <td>plus informations bienvenue www zakariadalil c...</td>\n",
       "    </tr>\n",
       "    <tr>\n",
       "      <th>2</th>\n",
       "      <td>cv592</td>\n",
       "      <td>Informatique</td>\n",
       "      <td>né adresse bardo tunisie tel el linked mahfoud...</td>\n",
       "    </tr>\n",
       "    <tr>\n",
       "      <th>3</th>\n",
       "      <td>cv593</td>\n",
       "      <td>Informatique</td>\n",
       "      <td>1 rue pasteur bourg reine cid 6 cid cid gpg id...</td>\n",
       "    </tr>\n",
       "    <tr>\n",
       "      <th>4</th>\n",
       "      <td>cv594</td>\n",
       "      <td>Informatique</td>\n",
       "      <td>h benjrad ans célibataire el ingénieur a école...</td>\n",
       "    </tr>\n",
       "  </tbody>\n",
       "</table>\n",
       "</div>"
      ],
      "text/plain": [
       "      CV       Domaine                                           Texte_CV\n",
       "0  cv651  Informatique  ingénieur développement java jee api micro ser...\n",
       "1  cv255  Informatique  plus informations bienvenue www zakariadalil c...\n",
       "2  cv592  Informatique  né adresse bardo tunisie tel el linked mahfoud...\n",
       "3  cv593  Informatique  1 rue pasteur bourg reine cid 6 cid cid gpg id...\n",
       "4  cv594  Informatique  h benjrad ans célibataire el ingénieur a école..."
      ]
     },
     "execution_count": 12,
     "metadata": {},
     "output_type": "execute_result"
    }
   ],
   "source": [
    "for i in range(0,len(data)):\n",
    "    data['Texte_CV'][i]=cv_cleaner(convert_pdf_to_txt(\"C:\\\\Users\\\\Anonymous\\\\Desktop\\\\data_cv_training\\\\\"+data['CV'][i]+\".pdf\"))\n",
    "data.head()"
   ]
  },
  {
   "cell_type": "markdown",
   "metadata": {},
   "source": [
    "### make sure that the X input of your KNN model should be an array"
   ]
  },
  {
   "cell_type": "code",
   "execution_count": 13,
   "metadata": {},
   "outputs": [
    {
     "data": {
      "text/plain": [
       "numpy.ndarray"
      ]
     },
     "execution_count": 13,
     "metadata": {},
     "output_type": "execute_result"
    }
   ],
   "source": [
    "type(data['Texte_CV'].values)"
   ]
  },
  {
   "cell_type": "markdown",
   "metadata": {},
   "source": [
    "### Transforming the X to a numerical vector"
   ]
  },
  {
   "cell_type": "code",
   "execution_count": 14,
   "metadata": {},
   "outputs": [],
   "source": [
    "# ##################################################### for test only\n",
    "\n",
    "# # Builds a dictionary of features and transforms documents to feature vectors and convert our text documents to a\n",
    "# # matrix of token counts (CountVectorizer)\n",
    "# count_vect = CountVectorizer()\n",
    "# X_train_counts = count_vect.fit_transform(L)\n",
    "# # transform a count matrix to a normalized tf-idf representation (tf-idf transformer)\n",
    "# tfidf_transformer = TfidfTransformer()\n",
    "# X_train_tfidf = tfidf_transformer.fit_transform(X_train_counts)\n",
    "# X_train_tfidf.shape"
   ]
  },
  {
   "cell_type": "code",
   "execution_count": 15,
   "metadata": {},
   "outputs": [],
   "source": [
    "# Builds a dictionary of features and transforms documents to feature vectors and convert our text documents to a\n",
    "# matrix of token counts (CountVectorizer)\n",
    "count_vect = CountVectorizer()\n",
    "X_train_counts = count_vect.fit_transform(data['Texte_CV'])"
   ]
  },
  {
   "cell_type": "code",
   "execution_count": 16,
   "metadata": {},
   "outputs": [
    {
     "data": {
      "text/plain": [
       "(73, 7720)"
      ]
     },
     "execution_count": 16,
     "metadata": {},
     "output_type": "execute_result"
    }
   ],
   "source": [
    "# transform a count matrix to a normalized tf-idf representation (tf-idf transformer)\n",
    "tfidf_transformer = TfidfTransformer()\n",
    "X_train_tfidf = tfidf_transformer.fit_transform(X_train_counts)\n",
    "X_train_tfidf.shape"
   ]
  },
  {
   "cell_type": "markdown",
   "metadata": {},
   "source": [
    "### The Y also should be numerical value, so we will assign to each value a number"
   ]
  },
  {
   "cell_type": "code",
   "execution_count": 17,
   "metadata": {},
   "outputs": [
    {
     "data": {
      "text/plain": [
       "array(['Informatique', 'Logistique', 'Mecanique', 'Economie', 'Commerce',\n",
       "       'Juridique', 'RH'], dtype=object)"
      ]
     },
     "execution_count": 17,
     "metadata": {},
     "output_type": "execute_result"
    }
   ],
   "source": [
    "data['Domaine'].unique()\n"
   ]
  },
  {
   "cell_type": "code",
   "execution_count": 18,
   "metadata": {},
   "outputs": [
    {
     "data": {
      "text/plain": [
       "array([0, 0, 0, 0, 0, 0, 0, 0, 1, 2, 2, 2, 1, 0, 0, 0, 0, 0, 1, 1, 1, 1,\n",
       "       1, 1, 3, 3, 3, 3, 4, 4, 4, 5, 5, 2, 0, 0, 4, 4, 4, 4, 5, 5, 5, 5,\n",
       "       6, 4, 5, 5, 5, 5, 5, 5, 2, 2, 3, 4, 6, 1, 1, 1, 1, 4, 2, 2, 2, 2,\n",
       "       2, 2, 6, 6, 6, 6, 6])"
      ]
     },
     "execution_count": 18,
     "metadata": {},
     "output_type": "execute_result"
    }
   ],
   "source": [
    "Categories_numbers=['Informatique', 'Logistique', 'Mecanique', 'Economie', 'Commerce','Juridique', 'RH']\n",
    "#create new col for number o each category\n",
    "data['Domaine_number']=' '\n",
    "for i in range(0,len(data)):\n",
    "    data['Domaine_number'][i]=Categories_numbers.index(data['Domaine'][i])\n",
    "data.tail()\n",
    "# D=6*['informatique']+4*['Marketing']+4*['Mecanique']\n",
    "#be careful, it should be a numpy.int type not o native int\n",
    "Y_train=np.array(np.int32(data['Domaine_number'].values))\n",
    "# Y_train.shape\n",
    "type(Y_train[0])\n",
    "Y_train"
   ]
  },
  {
   "cell_type": "markdown",
   "metadata": {},
   "source": [
    "#### difference between int and native int ..."
   ]
  },
  {
   "cell_type": "code",
   "execution_count": 19,
   "metadata": {},
   "outputs": [
    {
     "data": {
      "text/plain": [
       "numpy.int32"
      ]
     },
     "execution_count": 19,
     "metadata": {},
     "output_type": "execute_result"
    }
   ],
   "source": [
    "\n",
    "type(np.int32(12))\n",
    "# Y_train=np.array(np.int32(data['Domaine_number'][1])\n",
    "Y=np.array(np.int32([1]*73))\n",
    "type(Y[0])"
   ]
  },
  {
   "cell_type": "markdown",
   "metadata": {},
   "source": [
    "## Training KNN"
   ]
  },
  {
   "cell_type": "code",
   "execution_count": 20,
   "metadata": {},
   "outputs": [],
   "source": [
    "knn = KNeighborsClassifier(n_neighbors=7)\n",
    "\n",
    "# training our classifier ; train_data.target will be having numbers assigned for each category in train data\n",
    "clf = knn.fit(X_train_tfidf,Y_train)\n",
    "\n"
   ]
  },
  {
   "cell_type": "markdown",
   "metadata": {},
   "source": [
    "## Predict some CV"
   ]
  },
  {
   "cell_type": "code",
   "execution_count": 21,
   "metadata": {},
   "outputs": [
    {
     "name": "stdout",
     "output_type": "stream",
     "text": [
      "'Marketing est un domaine tres communicant' => Commerce\n",
      "'Java est mecanique programme bon' => Informatique\n",
      "'projet mba management sport alternance win sport school o p é e e capacité apprentge rigoureux dynamique sérieux autonome orgé capacité triller équipe capacité encadrer former e x p é r i e e p r o f e i o e e service civique cjb handball entraînements participation stages perfectionnement présence weekends compétitions développement filière féminine intersport reze oceane vendeur chaussures sports collectifs conseil client mise rayon implantation rayon traitement produit inté leclerc drive atlantis réapprovisionnement racks livraison client préparation commande formation nouveaux intéaires f o r a i o ufr staps nantes licence 3 formation cours spécité education motricité obtention deug staps licence 2 équivalant bafa lycée colinière nantes bac stmg mention assez bien spécité gestion finance interne durant toute période lycée o a h a e e u i a h a b a e u r e h a u i v e a u p a i o é e p o r o b e i f p r o f e i o e développer réseau profession devenir employable fin études done lequel épanouis sens bien autrement dit done sport o o r o é e rue île sein sainte loire i f o r a i q u e maîtrise pack microsoft office davinci resolve kinovea logiciel montage vidéo audacity montage audio photoscape siire photoshop a g u e anglais niveau bac 2 espagnol niveau bac' => Commerce\n"
     ]
    }
   ],
   "source": [
    "# Input Data to predict their classes of the given categories\n",
    "docs_new = ['Marketing est un domaine tres communicant', 'Java est mecanique programme bon',cv_cleaner(convert_pdf_to_txt(\"cv211.pdf\"))]\n",
    "# building up feature vector of our input\n",
    "X_new_counts = count_vect.transform(docs_new)\n",
    "# We call transform instead of fit_transform because it's already been fit\n",
    "X_new_tfidf = tfidf_transformer.transform(X_new_counts)\n",
    "\n",
    "\n",
    "predicted = clf.predict(X_new_tfidf)\n",
    "\n",
    "for doc, category in zip(docs_new, predicted):\n",
    "    print('%r => %s' % (doc, Categories_numbers[category]))"
   ]
  },
  {
   "cell_type": "code",
   "execution_count": null,
   "metadata": {},
   "outputs": [],
   "source": []
  },
  {
   "cell_type": "markdown",
   "metadata": {},
   "source": [
    "## Test and accuracy"
   ]
  },
  {
   "cell_type": "markdown",
   "metadata": {},
   "source": [
    "#### This code will read the test BD, create a colomn for the CV text, clean the CV, than vectorize the text "
   ]
  },
  {
   "cell_type": "markdown",
   "metadata": {},
   "source": [
    "##### it's so important that u dont create a new object(for transforming anf tf-idf ), u should work with the same one,,,,,"
   ]
  },
  {
   "cell_type": "code",
   "execution_count": 22,
   "metadata": {},
   "outputs": [
    {
     "data": {
      "text/plain": [
       "array([6, 6, 6, 1, 1, 2, 2, 5, 5, 4, 4, 3, 3, 0, 0])"
      ]
     },
     "execution_count": 22,
     "metadata": {},
     "output_type": "execute_result"
    }
   ],
   "source": [
    "#load\n",
    "test_data=pd.read_excel(\"test_BD.xlsx\")\n",
    "test_data['Texte_CV']=' '\n",
    "#data.head()\n",
    "\n",
    "#clean\n",
    "for i in range(0,len(test_data)):\n",
    "    test_data['Texte_CV'][i]=cv_cleaner(convert_pdf_to_txt(\"C:\\\\Users\\\\Anonymous\\\\Desktop\\\\data_cv_training\\\\\"+test_data['CV'][i]+\".pdf\"))\n",
    "test_data.head()\n",
    "\n",
    "#vectorize tf-idf\n",
    "\n",
    "######################### it's so important that u dont create a new object, u should work with the same one,,,,,\n",
    "\n",
    "#count_vect = CountVectorizer()\n",
    "X_test_counts = count_vect.transform(test_data['Texte_CV'])\n",
    "# transform a count matrix to a normalized tf-idf representation (tf-idf transformer)\n",
    "# tfidf_transformer = TfidfTransformer()\n",
    "X_test_tfidf = tfidf_transformer.transform(X_test_counts)\n",
    "X_test_tfidf.shape\n",
    "\n",
    "\n",
    "\n",
    "#create new col for number o each category\n",
    "test_data['Domaine_number']=' '\n",
    "for i in range(0,len(test_data)):\n",
    "    test_data['Domaine_number'][i]=Categories_numbers.index(test_data['Domaine'][i])\n",
    "data.tail()\n",
    "\n",
    "#be careful, it should be a numpy.int type not o native int\n",
    "Y_test=np.array(np.int32(test_data['Domaine_number'].values))\n",
    "# Y_train.shape\n",
    "#type(Y_test[0])\n",
    "Y_test\n"
   ]
  },
  {
   "cell_type": "code",
   "execution_count": 23,
   "metadata": {},
   "outputs": [
    {
     "data": {
      "text/plain": [
       "(73, 7720)"
      ]
     },
     "execution_count": 23,
     "metadata": {},
     "output_type": "execute_result"
    }
   ],
   "source": [
    "X_test_tfidf.shape\n",
    "X_train_tfidf.shape"
   ]
  },
  {
   "cell_type": "markdown",
   "metadata": {},
   "source": [
    "### Now we will predict the \"Domaines\" of each CV in data_test, and than we will calculate the mean of true predicted one"
   ]
  },
  {
   "cell_type": "code",
   "execution_count": 24,
   "metadata": {},
   "outputs": [
    {
     "name": "stdout",
     "output_type": "stream",
     "text": [
      "We got an accuracy of 86.66666666666667 % over the test data.\n"
     ]
    }
   ],
   "source": [
    "# test_data = fetch_20newsgroups(subset='test',\n",
    "#                                categories=categories, shuffle=True, random_state=42)\n",
    "# docs_test = test_data.data\n",
    "\n",
    "# Predicting our test data\n",
    "predicted = clf.predict(X_test_tfidf)\n",
    "print('We got an accuracy of',np.mean(predicted == Y_test)*100, '% over the test data.')"
   ]
  },
  {
   "cell_type": "code",
   "execution_count": 25,
   "metadata": {},
   "outputs": [
    {
     "data": {
      "text/plain": [
       "array([6, 6, 6, 1, 1, 2, 0, 5, 5, 4, 4, 3, 6, 0, 0])"
      ]
     },
     "execution_count": 25,
     "metadata": {},
     "output_type": "execute_result"
    }
   ],
   "source": [
    "predicted = clf.predict(X_test_tfidf)\n",
    "predicted"
   ]
  },
  {
   "cell_type": "code",
   "execution_count": 26,
   "metadata": {},
   "outputs": [
    {
     "data": {
      "text/plain": [
       "array([6, 6, 6, 1, 1, 2, 2, 5, 5, 4, 4, 3, 3, 0, 0])"
      ]
     },
     "execution_count": 26,
     "metadata": {},
     "output_type": "execute_result"
    }
   ],
   "source": [
    "Y_test"
   ]
  },
  {
   "cell_type": "markdown",
   "metadata": {},
   "source": [
    "# Choosing the optimal K value"
   ]
  },
  {
   "cell_type": "code",
   "execution_count": 50,
   "metadata": {},
   "outputs": [
    {
     "data": {
      "text/plain": [
       "array([0., 0., 0., 0.])"
      ]
     },
     "execution_count": 50,
     "metadata": {},
     "output_type": "execute_result"
    }
   ],
   "source": [
    "len(data)\n",
    "L=np.arange(1,6)\n",
    "L=np.zeros(4)\n",
    "L\n"
   ]
  },
  {
   "cell_type": "code",
   "execution_count": 57,
   "metadata": {},
   "outputs": [],
   "source": [
    "from matplotlib import pyplot as plt"
   ]
  },
  {
   "cell_type": "code",
   "execution_count": 66,
   "metadata": {},
   "outputs": [],
   "source": [
    "#for example lets try all those value of K\n",
    "Ks=int(len(data)/2)\n",
    "# Ks=len(data)\n",
    "#np array to store accuracy\n",
    "accuracy=np.zeros(Ks-1)\n",
    "\n",
    "for k in range(1,Ks):\n",
    "    knn = KNeighborsClassifier(n_neighbors=k)\n",
    "    # training our classifier ; train_data.target will be having numbers assigned for each category in train data\n",
    "    clf = knn.fit(X_train_tfidf,Y_train)\n",
    "    # Predicting our test data\n",
    "    predicted = clf.predict(X_test_tfidf)\n",
    "#   print('We got an accuracy of',np.mean(predicted == Y_test)*100, '% over the test data.')\n",
    "    accuracy[k-1]=np.mean(predicted == Y_test)*100\n",
    "    \n"
   ]
  },
  {
   "cell_type": "code",
   "execution_count": 67,
   "metadata": {},
   "outputs": [
    {
     "data": {
      "image/png": "[encoded data removed]",
      "text/plain": [
       "<Figure size 432x288 with 1 Axes>"
      ]
     },
     "metadata": {
      "needs_background": "light"
     },
     "output_type": "display_data"
    }
   ],
   "source": [
    "K=np.arange(1,Ks)\n",
    "plt.plot(K,accuracy)\n",
    "plt.show()"
   ]
  },
  {
   "cell_type": "code",
   "execution_count": 68,
   "metadata": {},
   "outputs": [
    {
     "name": "stdout",
     "output_type": "stream",
     "text": [
      "86.66666666666667\n",
      "La valeur optimale de K est : 7\n"
     ]
    }
   ],
   "source": [
    "print(accuracy.max())\n",
    "print('La valeur optimale de K est :',accuracy.argmax()+1)"
   ]
  }
 ],
 "metadata": {
  "kernelspec": {
   "display_name": "Python 3",
   "language": "python",
   "name": "python3"
  },
  "language_info": {
   "codemirror_mode": {
    "name": "ipython",
    "version": 3
   },
   "file_extension": ".py",
   "mimetype": "text/x-python",
   "name": "python",
   "nbconvert_exporter": "python",
   "pygments_lexer": "ipython3",
   "version": "3.7.1"
  }
 },
 "nbformat": 4,
 "nbformat_minor": 2
}
